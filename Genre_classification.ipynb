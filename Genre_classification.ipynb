{
 "cells": [
  {
   "cell_type": "code",
   "execution_count": 2,
   "metadata": {},
   "outputs": [
    {
     "name": "stderr",
     "output_type": "stream",
     "text": [
      "/Users/anitaaa/opt/anaconda3/lib/python3.8/site-packages/IPython/core/interactiveshell.py:3165: DtypeWarning: Columns (19,29) have mixed types.Specify dtype option on import or set low_memory=False.\n",
      "  has_raised = await self.run_ast_nodes(code_ast.body, cell_name,\n"
     ]
    }
   ],
   "source": [
    "import pandas as pd\n",
    "import statsmodels.api as sm\n",
    "data = pd.read_csv('cleaned_meta.csv')   \n",
    "df = pd.DataFrame(data)"
   ]
  },
  {
   "cell_type": "code",
   "execution_count": 3,
   "metadata": {},
   "outputs": [],
   "source": [
    "for x in range (0,8):\n",
    "    genre_col = 'genre_{}'.format(x)\n",
    "    if x == 0:\n",
    "        df_genre = pd.get_dummies(df[genre_col]).reset_index()\n",
    "    else:\n",
    "        df_genre = df_genre.add(pd.get_dummies(df[genre_col]).reset_index(), fill_value= 0)"
   ]
  },
  {
   "cell_type": "code",
   "execution_count": 4,
   "metadata": {},
   "outputs": [],
   "source": [
    "df_genre = df_genre.astype(int)"
   ]
  },
  {
   "cell_type": "code",
   "execution_count": 5,
   "metadata": {},
   "outputs": [
    {
     "data": {
      "text/html": [
       "<div>\n",
       "<style scoped>\n",
       "    .dataframe tbody tr th:only-of-type {\n",
       "        vertical-align: middle;\n",
       "    }\n",
       "\n",
       "    .dataframe tbody tr th {\n",
       "        vertical-align: top;\n",
       "    }\n",
       "\n",
       "    .dataframe thead th {\n",
       "        text-align: right;\n",
       "    }\n",
       "</style>\n",
       "<table border=\"1\" class=\"dataframe\">\n",
       "  <thead>\n",
       "    <tr style=\"text-align: right;\">\n",
       "      <th></th>\n",
       "      <th>Unnamed: 0</th>\n",
       "      <th>adult</th>\n",
       "      <th>belongs_to_collection</th>\n",
       "      <th>budget</th>\n",
       "      <th>genres</th>\n",
       "      <th>id</th>\n",
       "      <th>imdb_id</th>\n",
       "      <th>original_language</th>\n",
       "      <th>original_title</th>\n",
       "      <th>popularity</th>\n",
       "      <th>...</th>\n",
       "      <th>Horror</th>\n",
       "      <th>Music</th>\n",
       "      <th>Mystery</th>\n",
       "      <th>Romance</th>\n",
       "      <th>Science Fiction</th>\n",
       "      <th>TV Movie</th>\n",
       "      <th>Thriller</th>\n",
       "      <th>War</th>\n",
       "      <th>Western</th>\n",
       "      <th>index</th>\n",
       "    </tr>\n",
       "  </thead>\n",
       "  <tbody>\n",
       "    <tr>\n",
       "      <th>0</th>\n",
       "      <td>0</td>\n",
       "      <td>False</td>\n",
       "      <td>{'id': 10194, 'name': 'Toy Story Collection', ...</td>\n",
       "      <td>30000000</td>\n",
       "      <td>Animation,Comedy,Family</td>\n",
       "      <td>862</td>\n",
       "      <td>tt0114709</td>\n",
       "      <td>en</td>\n",
       "      <td>Toy Story</td>\n",
       "      <td>21.946943</td>\n",
       "      <td>...</td>\n",
       "      <td>0</td>\n",
       "      <td>0</td>\n",
       "      <td>0</td>\n",
       "      <td>0</td>\n",
       "      <td>0</td>\n",
       "      <td>0</td>\n",
       "      <td>0</td>\n",
       "      <td>0</td>\n",
       "      <td>0</td>\n",
       "      <td>0</td>\n",
       "    </tr>\n",
       "    <tr>\n",
       "      <th>1</th>\n",
       "      <td>1</td>\n",
       "      <td>False</td>\n",
       "      <td>NaN</td>\n",
       "      <td>65000000</td>\n",
       "      <td>Adventure,Fantasy,Family</td>\n",
       "      <td>8844</td>\n",
       "      <td>tt0113497</td>\n",
       "      <td>en</td>\n",
       "      <td>Jumanji</td>\n",
       "      <td>17.015539</td>\n",
       "      <td>...</td>\n",
       "      <td>0</td>\n",
       "      <td>0</td>\n",
       "      <td>0</td>\n",
       "      <td>0</td>\n",
       "      <td>0</td>\n",
       "      <td>0</td>\n",
       "      <td>0</td>\n",
       "      <td>0</td>\n",
       "      <td>0</td>\n",
       "      <td>8</td>\n",
       "    </tr>\n",
       "    <tr>\n",
       "      <th>2</th>\n",
       "      <td>2</td>\n",
       "      <td>False</td>\n",
       "      <td>{'id': 119050, 'name': 'Grumpy Old Men Collect...</td>\n",
       "      <td>0</td>\n",
       "      <td>Romance,Comedy</td>\n",
       "      <td>15602</td>\n",
       "      <td>tt0113228</td>\n",
       "      <td>en</td>\n",
       "      <td>Grumpier Old Men</td>\n",
       "      <td>11.712900</td>\n",
       "      <td>...</td>\n",
       "      <td>0</td>\n",
       "      <td>0</td>\n",
       "      <td>0</td>\n",
       "      <td>1</td>\n",
       "      <td>0</td>\n",
       "      <td>0</td>\n",
       "      <td>0</td>\n",
       "      <td>0</td>\n",
       "      <td>0</td>\n",
       "      <td>16</td>\n",
       "    </tr>\n",
       "    <tr>\n",
       "      <th>3</th>\n",
       "      <td>3</td>\n",
       "      <td>False</td>\n",
       "      <td>NaN</td>\n",
       "      <td>16000000</td>\n",
       "      <td>Comedy,Drama,Romance</td>\n",
       "      <td>31357</td>\n",
       "      <td>tt0114885</td>\n",
       "      <td>en</td>\n",
       "      <td>Waiting to Exhale</td>\n",
       "      <td>3.859495</td>\n",
       "      <td>...</td>\n",
       "      <td>0</td>\n",
       "      <td>0</td>\n",
       "      <td>0</td>\n",
       "      <td>1</td>\n",
       "      <td>0</td>\n",
       "      <td>0</td>\n",
       "      <td>0</td>\n",
       "      <td>0</td>\n",
       "      <td>0</td>\n",
       "      <td>24</td>\n",
       "    </tr>\n",
       "    <tr>\n",
       "      <th>4</th>\n",
       "      <td>4</td>\n",
       "      <td>False</td>\n",
       "      <td>{'id': 96871, 'name': 'Father of the Bride Col...</td>\n",
       "      <td>0</td>\n",
       "      <td>Comedy</td>\n",
       "      <td>11862</td>\n",
       "      <td>tt0113041</td>\n",
       "      <td>en</td>\n",
       "      <td>Father of the Bride Part II</td>\n",
       "      <td>8.387519</td>\n",
       "      <td>...</td>\n",
       "      <td>0</td>\n",
       "      <td>0</td>\n",
       "      <td>0</td>\n",
       "      <td>0</td>\n",
       "      <td>0</td>\n",
       "      <td>0</td>\n",
       "      <td>0</td>\n",
       "      <td>0</td>\n",
       "      <td>0</td>\n",
       "      <td>32</td>\n",
       "    </tr>\n",
       "  </tbody>\n",
       "</table>\n",
       "<p>5 rows × 51 columns</p>\n",
       "</div>"
      ],
      "text/plain": [
       "   Unnamed: 0  adult                              belongs_to_collection  \\\n",
       "0           0  False  {'id': 10194, 'name': 'Toy Story Collection', ...   \n",
       "1           1  False                                                NaN   \n",
       "2           2  False  {'id': 119050, 'name': 'Grumpy Old Men Collect...   \n",
       "3           3  False                                                NaN   \n",
       "4           4  False  {'id': 96871, 'name': 'Father of the Bride Col...   \n",
       "\n",
       "     budget                    genres     id    imdb_id original_language  \\\n",
       "0  30000000   Animation,Comedy,Family    862  tt0114709                en   \n",
       "1  65000000  Adventure,Fantasy,Family   8844  tt0113497                en   \n",
       "2         0            Romance,Comedy  15602  tt0113228                en   \n",
       "3  16000000      Comedy,Drama,Romance  31357  tt0114885                en   \n",
       "4         0                    Comedy  11862  tt0113041                en   \n",
       "\n",
       "                original_title  popularity  ... Horror Music  Mystery  \\\n",
       "0                    Toy Story   21.946943  ...      0     0        0   \n",
       "1                      Jumanji   17.015539  ...      0     0        0   \n",
       "2             Grumpier Old Men   11.712900  ...      0     0        0   \n",
       "3            Waiting to Exhale    3.859495  ...      0     0        0   \n",
       "4  Father of the Bride Part II    8.387519  ...      0     0        0   \n",
       "\n",
       "   Romance  Science Fiction TV Movie Thriller War Western index  \n",
       "0        0                0        0        0   0       0     0  \n",
       "1        0                0        0        0   0       0     8  \n",
       "2        1                0        0        0   0       0    16  \n",
       "3        1                0        0        0   0       0    24  \n",
       "4        0                0        0        0   0       0    32  \n",
       "\n",
       "[5 rows x 51 columns]"
      ]
     },
     "execution_count": 5,
     "metadata": {},
     "output_type": "execute_result"
    }
   ],
   "source": [
    "df = pd.concat([df, df_genre], axis=1)\n",
    "df.head()"
   ]
  },
  {
   "cell_type": "code",
   "execution_count": 6,
   "metadata": {},
   "outputs": [
    {
     "data": {
      "text/plain": [
       "count    39471.000000\n",
       "mean         6.024818\n",
       "std          1.258148\n",
       "min          0.500000\n",
       "25%          5.300000\n",
       "50%          6.100000\n",
       "75%          6.900000\n",
       "max         10.000000\n",
       "Name: vote_average, dtype: float64"
      ]
     },
     "execution_count": 6,
     "metadata": {},
     "output_type": "execute_result"
    }
   ],
   "source": [
    "df['vote_average'].describe()"
   ]
  },
  {
   "cell_type": "code",
   "execution_count": 7,
   "metadata": {},
   "outputs": [
    {
     "data": {
      "text/plain": [
       "<AxesSubplot:>"
      ]
     },
     "execution_count": 7,
     "metadata": {},
     "output_type": "execute_result"
    },
    {
     "data": {
      "image/png": "[encoded data removed]",
      "text/plain": [
       "<Figure size 432x288 with 1 Axes>"
      ]
     },
     "metadata": {
      "needs_background": "light"
     },
     "output_type": "display_data"
    }
   ],
   "source": [
    "df.boxplot(column ='vote_average')"
   ]
  },
  {
   "cell_type": "code",
   "execution_count": 8,
   "metadata": {},
   "outputs": [
    {
     "data": {
      "text/html": [
       "<div>\n",
       "<style scoped>\n",
       "    .dataframe tbody tr th:only-of-type {\n",
       "        vertical-align: middle;\n",
       "    }\n",
       "\n",
       "    .dataframe tbody tr th {\n",
       "        vertical-align: top;\n",
       "    }\n",
       "\n",
       "    .dataframe thead th {\n",
       "        text-align: right;\n",
       "    }\n",
       "</style>\n",
       "<table border=\"1\" class=\"dataframe\">\n",
       "  <thead>\n",
       "    <tr style=\"text-align: right;\">\n",
       "      <th></th>\n",
       "      <th>Unnamed: 0</th>\n",
       "      <th>adult</th>\n",
       "      <th>belongs_to_collection</th>\n",
       "      <th>budget</th>\n",
       "      <th>genres</th>\n",
       "      <th>id</th>\n",
       "      <th>imdb_id</th>\n",
       "      <th>original_language</th>\n",
       "      <th>original_title</th>\n",
       "      <th>popularity</th>\n",
       "      <th>...</th>\n",
       "      <th>Music</th>\n",
       "      <th>Mystery</th>\n",
       "      <th>Romance</th>\n",
       "      <th>Science Fiction</th>\n",
       "      <th>TV Movie</th>\n",
       "      <th>Thriller</th>\n",
       "      <th>War</th>\n",
       "      <th>Western</th>\n",
       "      <th>index</th>\n",
       "      <th>Highrating</th>\n",
       "    </tr>\n",
       "  </thead>\n",
       "  <tbody>\n",
       "    <tr>\n",
       "      <th>0</th>\n",
       "      <td>0</td>\n",
       "      <td>False</td>\n",
       "      <td>{'id': 10194, 'name': 'Toy Story Collection', ...</td>\n",
       "      <td>30000000</td>\n",
       "      <td>Animation,Comedy,Family</td>\n",
       "      <td>862</td>\n",
       "      <td>tt0114709</td>\n",
       "      <td>en</td>\n",
       "      <td>Toy Story</td>\n",
       "      <td>21.946943</td>\n",
       "      <td>...</td>\n",
       "      <td>0</td>\n",
       "      <td>0</td>\n",
       "      <td>0</td>\n",
       "      <td>0</td>\n",
       "      <td>0</td>\n",
       "      <td>0</td>\n",
       "      <td>0</td>\n",
       "      <td>0</td>\n",
       "      <td>0</td>\n",
       "      <td>1</td>\n",
       "    </tr>\n",
       "    <tr>\n",
       "      <th>1</th>\n",
       "      <td>1</td>\n",
       "      <td>False</td>\n",
       "      <td>NaN</td>\n",
       "      <td>65000000</td>\n",
       "      <td>Adventure,Fantasy,Family</td>\n",
       "      <td>8844</td>\n",
       "      <td>tt0113497</td>\n",
       "      <td>en</td>\n",
       "      <td>Jumanji</td>\n",
       "      <td>17.015539</td>\n",
       "      <td>...</td>\n",
       "      <td>0</td>\n",
       "      <td>0</td>\n",
       "      <td>0</td>\n",
       "      <td>0</td>\n",
       "      <td>0</td>\n",
       "      <td>0</td>\n",
       "      <td>0</td>\n",
       "      <td>0</td>\n",
       "      <td>8</td>\n",
       "      <td>1</td>\n",
       "    </tr>\n",
       "    <tr>\n",
       "      <th>2</th>\n",
       "      <td>2</td>\n",
       "      <td>False</td>\n",
       "      <td>{'id': 119050, 'name': 'Grumpy Old Men Collect...</td>\n",
       "      <td>0</td>\n",
       "      <td>Romance,Comedy</td>\n",
       "      <td>15602</td>\n",
       "      <td>tt0113228</td>\n",
       "      <td>en</td>\n",
       "      <td>Grumpier Old Men</td>\n",
       "      <td>11.712900</td>\n",
       "      <td>...</td>\n",
       "      <td>0</td>\n",
       "      <td>0</td>\n",
       "      <td>1</td>\n",
       "      <td>0</td>\n",
       "      <td>0</td>\n",
       "      <td>0</td>\n",
       "      <td>0</td>\n",
       "      <td>0</td>\n",
       "      <td>16</td>\n",
       "      <td>0</td>\n",
       "    </tr>\n",
       "    <tr>\n",
       "      <th>3</th>\n",
       "      <td>3</td>\n",
       "      <td>False</td>\n",
       "      <td>NaN</td>\n",
       "      <td>16000000</td>\n",
       "      <td>Comedy,Drama,Romance</td>\n",
       "      <td>31357</td>\n",
       "      <td>tt0114885</td>\n",
       "      <td>en</td>\n",
       "      <td>Waiting to Exhale</td>\n",
       "      <td>3.859495</td>\n",
       "      <td>...</td>\n",
       "      <td>0</td>\n",
       "      <td>0</td>\n",
       "      <td>1</td>\n",
       "      <td>0</td>\n",
       "      <td>0</td>\n",
       "      <td>0</td>\n",
       "      <td>0</td>\n",
       "      <td>0</td>\n",
       "      <td>24</td>\n",
       "      <td>0</td>\n",
       "    </tr>\n",
       "    <tr>\n",
       "      <th>4</th>\n",
       "      <td>4</td>\n",
       "      <td>False</td>\n",
       "      <td>{'id': 96871, 'name': 'Father of the Bride Col...</td>\n",
       "      <td>0</td>\n",
       "      <td>Comedy</td>\n",
       "      <td>11862</td>\n",
       "      <td>tt0113041</td>\n",
       "      <td>en</td>\n",
       "      <td>Father of the Bride Part II</td>\n",
       "      <td>8.387519</td>\n",
       "      <td>...</td>\n",
       "      <td>0</td>\n",
       "      <td>0</td>\n",
       "      <td>0</td>\n",
       "      <td>0</td>\n",
       "      <td>0</td>\n",
       "      <td>0</td>\n",
       "      <td>0</td>\n",
       "      <td>0</td>\n",
       "      <td>32</td>\n",
       "      <td>0</td>\n",
       "    </tr>\n",
       "  </tbody>\n",
       "</table>\n",
       "<p>5 rows × 52 columns</p>\n",
       "</div>"
      ],
      "text/plain": [
       "   Unnamed: 0  adult                              belongs_to_collection  \\\n",
       "0           0  False  {'id': 10194, 'name': 'Toy Story Collection', ...   \n",
       "1           1  False                                                NaN   \n",
       "2           2  False  {'id': 119050, 'name': 'Grumpy Old Men Collect...   \n",
       "3           3  False                                                NaN   \n",
       "4           4  False  {'id': 96871, 'name': 'Father of the Bride Col...   \n",
       "\n",
       "     budget                    genres     id    imdb_id original_language  \\\n",
       "0  30000000   Animation,Comedy,Family    862  tt0114709                en   \n",
       "1  65000000  Adventure,Fantasy,Family   8844  tt0113497                en   \n",
       "2         0            Romance,Comedy  15602  tt0113228                en   \n",
       "3  16000000      Comedy,Drama,Romance  31357  tt0114885                en   \n",
       "4         0                    Comedy  11862  tt0113041                en   \n",
       "\n",
       "                original_title  popularity  ... Music Mystery  Romance  \\\n",
       "0                    Toy Story   21.946943  ...     0       0        0   \n",
       "1                      Jumanji   17.015539  ...     0       0        0   \n",
       "2             Grumpier Old Men   11.712900  ...     0       0        1   \n",
       "3            Waiting to Exhale    3.859495  ...     0       0        1   \n",
       "4  Father of the Bride Part II    8.387519  ...     0       0        0   \n",
       "\n",
       "   Science Fiction  TV Movie Thriller War Western index Highrating  \n",
       "0                0         0        0   0       0     0          1  \n",
       "1                0         0        0   0       0     8          1  \n",
       "2                0         0        0   0       0    16          0  \n",
       "3                0         0        0   0       0    24          0  \n",
       "4                0         0        0   0       0    32          0  \n",
       "\n",
       "[5 rows x 52 columns]"
      ]
     },
     "execution_count": 8,
     "metadata": {},
     "output_type": "execute_result"
    }
   ],
   "source": [
    "df['Highrating']=df['vote_average'].apply(lambda x: 1 if x >= 6.9 else 0)\n",
    "df.head()"
   ]
  },
  {
   "cell_type": "code",
   "execution_count": 9,
   "metadata": {},
   "outputs": [
    {
     "data": {
      "text/plain": [
       "0    29471\n",
       "1    10001\n",
       "Name: Highrating, dtype: int64"
      ]
     },
     "execution_count": 9,
     "metadata": {},
     "output_type": "execute_result"
    }
   ],
   "source": [
    "df['Highrating'].value_counts()"
   ]
  },
  {
   "cell_type": "markdown",
   "metadata": {},
   "source": [
    "# Logistic Regression\n"
   ]
  },
  {
   "cell_type": "code",
   "execution_count": 10,
   "metadata": {},
   "outputs": [],
   "source": [
    "from sklearn.model_selection import train_test_split\n",
    "from sklearn.linear_model import LogisticRegression\n",
    "from sklearn.metrics import classification_report\n",
    "from sklearn.metrics import accuracy_score\n",
    "from sklearn.metrics import confusion_matrix"
   ]
  },
  {
   "cell_type": "code",
   "execution_count": 11,
   "metadata": {},
   "outputs": [
    {
     "name": "stdout",
     "output_type": "stream",
     "text": [
      "Optimization terminated successfully.\n",
      "         Current function value: 0.546549\n",
      "         Iterations 6\n"
     ]
    },
    {
     "data": {
      "text/html": [
       "<table class=\"simpletable\">\n",
       "<caption>Logit Regression Results</caption>\n",
       "<tr>\n",
       "  <th>Dep. Variable:</th>      <td>Highrating</td>    <th>  No. Observations:  </th>   <td> 31577</td>  \n",
       "</tr>\n",
       "<tr>\n",
       "  <th>Model:</th>                 <td>Logit</td>      <th>  Df Residuals:      </th>   <td> 31557</td>  \n",
       "</tr>\n",
       "<tr>\n",
       "  <th>Method:</th>                 <td>MLE</td>       <th>  Df Model:          </th>   <td>    19</td>  \n",
       "</tr>\n",
       "<tr>\n",
       "  <th>Date:</th>            <td>Mon, 06 Dec 2021</td> <th>  Pseudo R-squ.:     </th>   <td>0.03614</td> \n",
       "</tr>\n",
       "<tr>\n",
       "  <th>Time:</th>                <td>23:38:21</td>     <th>  Log-Likelihood:    </th>  <td> -17258.</td> \n",
       "</tr>\n",
       "<tr>\n",
       "  <th>converged:</th>             <td>True</td>       <th>  LL-Null:           </th>  <td> -17906.</td> \n",
       "</tr>\n",
       "<tr>\n",
       "  <th>Covariance Type:</th>     <td>nonrobust</td>    <th>  LLR p-value:       </th> <td>5.892e-263</td>\n",
       "</tr>\n",
       "</table>\n",
       "<table class=\"simpletable\">\n",
       "<tr>\n",
       "         <td></td>            <th>coef</th>     <th>std err</th>      <th>z</th>      <th>P>|z|</th>  <th>[0.025</th>    <th>0.975]</th>  \n",
       "</tr>\n",
       "<tr>\n",
       "  <th>Action</th>          <td>   -0.7691</td> <td>    0.046</td> <td>  -16.708</td> <td> 0.000</td> <td>   -0.859</td> <td>   -0.679</td>\n",
       "</tr>\n",
       "<tr>\n",
       "  <th>Adventure</th>       <td>   -0.2217</td> <td>    0.057</td> <td>   -3.867</td> <td> 0.000</td> <td>   -0.334</td> <td>   -0.109</td>\n",
       "</tr>\n",
       "<tr>\n",
       "  <th>Animation</th>       <td>    0.4219</td> <td>    0.065</td> <td>    6.477</td> <td> 0.000</td> <td>    0.294</td> <td>    0.550</td>\n",
       "</tr>\n",
       "<tr>\n",
       "  <th>Comedy</th>          <td>   -0.8360</td> <td>    0.027</td> <td>  -30.682</td> <td> 0.000</td> <td>   -0.889</td> <td>   -0.783</td>\n",
       "</tr>\n",
       "<tr>\n",
       "  <th>Crime</th>           <td>   -0.0724</td> <td>    0.049</td> <td>   -1.487</td> <td> 0.137</td> <td>   -0.168</td> <td>    0.023</td>\n",
       "</tr>\n",
       "<tr>\n",
       "  <th>Documentary</th>     <td>    0.1275</td> <td>    0.040</td> <td>    3.190</td> <td> 0.001</td> <td>    0.049</td> <td>    0.206</td>\n",
       "</tr>\n",
       "<tr>\n",
       "  <th>Drama</th>           <td>   -0.3503</td> <td>    0.023</td> <td>  -15.149</td> <td> 0.000</td> <td>   -0.396</td> <td>   -0.305</td>\n",
       "</tr>\n",
       "<tr>\n",
       "  <th>Family</th>          <td>   -0.8161</td> <td>    0.065</td> <td>  -12.531</td> <td> 0.000</td> <td>   -0.944</td> <td>   -0.688</td>\n",
       "</tr>\n",
       "<tr>\n",
       "  <th>Fantasy</th>         <td>   -0.0967</td> <td>    0.067</td> <td>   -1.451</td> <td> 0.147</td> <td>   -0.227</td> <td>    0.034</td>\n",
       "</tr>\n",
       "<tr>\n",
       "  <th>Foreign</th>         <td>   -0.4557</td> <td>    0.076</td> <td>   -6.024</td> <td> 0.000</td> <td>   -0.604</td> <td>   -0.307</td>\n",
       "</tr>\n",
       "<tr>\n",
       "  <th>History</th>         <td>    0.0047</td> <td>    0.072</td> <td>    0.065</td> <td> 0.948</td> <td>   -0.136</td> <td>    0.145</td>\n",
       "</tr>\n",
       "<tr>\n",
       "  <th>Horror</th>          <td>   -1.7235</td> <td>    0.064</td> <td>  -26.834</td> <td> 0.000</td> <td>   -1.849</td> <td>   -1.598</td>\n",
       "</tr>\n",
       "<tr>\n",
       "  <th>Music</th>           <td>    0.0643</td> <td>    0.068</td> <td>    0.951</td> <td> 0.341</td> <td>   -0.068</td> <td>    0.197</td>\n",
       "</tr>\n",
       "<tr>\n",
       "  <th>Mystery</th>         <td>   -0.1309</td> <td>    0.067</td> <td>   -1.956</td> <td> 0.050</td> <td>   -0.262</td> <td>    0.000</td>\n",
       "</tr>\n",
       "<tr>\n",
       "  <th>Romance</th>         <td>   -0.3983</td> <td>    0.039</td> <td>  -10.177</td> <td> 0.000</td> <td>   -0.475</td> <td>   -0.322</td>\n",
       "</tr>\n",
       "<tr>\n",
       "  <th>Science Fiction</th> <td>   -0.7943</td> <td>    0.068</td> <td>  -11.687</td> <td> 0.000</td> <td>   -0.928</td> <td>   -0.661</td>\n",
       "</tr>\n",
       "<tr>\n",
       "  <th>TV Movie</th>        <td>   -0.6195</td> <td>    0.117</td> <td>   -5.273</td> <td> 0.000</td> <td>   -0.850</td> <td>   -0.389</td>\n",
       "</tr>\n",
       "<tr>\n",
       "  <th>Thriller</th>        <td>   -0.7498</td> <td>    0.045</td> <td>  -16.764</td> <td> 0.000</td> <td>   -0.837</td> <td>   -0.662</td>\n",
       "</tr>\n",
       "<tr>\n",
       "  <th>War</th>             <td>    0.0051</td> <td>    0.075</td> <td>    0.069</td> <td> 0.945</td> <td>   -0.142</td> <td>    0.152</td>\n",
       "</tr>\n",
       "<tr>\n",
       "  <th>Western</th>         <td>   -1.0251</td> <td>    0.103</td> <td>   -9.932</td> <td> 0.000</td> <td>   -1.227</td> <td>   -0.823</td>\n",
       "</tr>\n",
       "</table>"
      ],
      "text/plain": [
       "<class 'statsmodels.iolib.summary.Summary'>\n",
       "\"\"\"\n",
       "                           Logit Regression Results                           \n",
       "==============================================================================\n",
       "Dep. Variable:             Highrating   No. Observations:                31577\n",
       "Model:                          Logit   Df Residuals:                    31557\n",
       "Method:                           MLE   Df Model:                           19\n",
       "Date:                Mon, 06 Dec 2021   Pseudo R-squ.:                 0.03614\n",
       "Time:                        23:38:21   Log-Likelihood:                -17258.\n",
       "converged:                       True   LL-Null:                       -17906.\n",
       "Covariance Type:            nonrobust   LLR p-value:                5.892e-263\n",
       "===================================================================================\n",
       "                      coef    std err          z      P>|z|      [0.025      0.975]\n",
       "-----------------------------------------------------------------------------------\n",
       "Action             -0.7691      0.046    -16.708      0.000      -0.859      -0.679\n",
       "Adventure          -0.2217      0.057     -3.867      0.000      -0.334      -0.109\n",
       "Animation           0.4219      0.065      6.477      0.000       0.294       0.550\n",
       "Comedy             -0.8360      0.027    -30.682      0.000      -0.889      -0.783\n",
       "Crime              -0.0724      0.049     -1.487      0.137      -0.168       0.023\n",
       "Documentary         0.1275      0.040      3.190      0.001       0.049       0.206\n",
       "Drama              -0.3503      0.023    -15.149      0.000      -0.396      -0.305\n",
       "Family             -0.8161      0.065    -12.531      0.000      -0.944      -0.688\n",
       "Fantasy            -0.0967      0.067     -1.451      0.147      -0.227       0.034\n",
       "Foreign            -0.4557      0.076     -6.024      0.000      -0.604      -0.307\n",
       "History             0.0047      0.072      0.065      0.948      -0.136       0.145\n",
       "Horror             -1.7235      0.064    -26.834      0.000      -1.849      -1.598\n",
       "Music               0.0643      0.068      0.951      0.341      -0.068       0.197\n",
       "Mystery            -0.1309      0.067     -1.956      0.050      -0.262       0.000\n",
       "Romance            -0.3983      0.039    -10.177      0.000      -0.475      -0.322\n",
       "Science Fiction    -0.7943      0.068    -11.687      0.000      -0.928      -0.661\n",
       "TV Movie           -0.6195      0.117     -5.273      0.000      -0.850      -0.389\n",
       "Thriller           -0.7498      0.045    -16.764      0.000      -0.837      -0.662\n",
       "War                 0.0051      0.075      0.069      0.945      -0.142       0.152\n",
       "Western            -1.0251      0.103     -9.932      0.000      -1.227      -0.823\n",
       "===================================================================================\n",
       "\"\"\""
      ]
     },
     "execution_count": 11,
     "metadata": {},
     "output_type": "execute_result"
    }
   ],
   "source": [
    "inputs0 = df[['Action', 'Adventure', 'Animation','Comedy', 'Crime', 'Documentary', 'Drama', 'Family', 'Fantasy',\n",
    "              'Foreign','History','Horror','Music','Mystery','Romance','Science Fiction','TV Movie','Thriller',\n",
    "              'War', 'Western']]\n",
    "Dep_var = df['Highrating']\n",
    "X_train, X_test, Y_train, Y_test = train_test_split(inputs0, Dep_var, test_size =0.2, random_state = 0)\n",
    "logit_model = sm.Logit(Y_train, X_train)\n",
    "result = logit_model.fit()\n",
    "result.summary()"
   ]
  },
  {
   "cell_type": "code",
   "execution_count": 12,
   "metadata": {},
   "outputs": [],
   "source": [
    "y_pred = result.predict(X_test)\n",
    "predictions = [round(value) for value in y_pred]"
   ]
  },
  {
   "cell_type": "code",
   "execution_count": 13,
   "metadata": {},
   "outputs": [
    {
     "data": {
      "text/plain": [
       "0.7500949968334388"
      ]
     },
     "execution_count": 13,
     "metadata": {},
     "output_type": "execute_result"
    }
   ],
   "source": [
    "accuracy = accuracy_score(Y_test, predictions)\n",
    "accuracy"
   ]
  },
  {
   "cell_type": "code",
   "execution_count": 14,
   "metadata": {},
   "outputs": [
    {
     "name": "stdout",
     "output_type": "stream",
     "text": [
      "              precision    recall  f1-score   support\n",
      "\n",
      "           0       0.77      0.95      0.85      5925\n",
      "           1       0.50      0.16      0.24      1970\n",
      "\n",
      "    accuracy                           0.75      7895\n",
      "   macro avg       0.63      0.55      0.55      7895\n",
      "weighted avg       0.70      0.75      0.70      7895\n",
      "\n"
     ]
    }
   ],
   "source": [
    "print(classification_report(Y_test, predictions))"
   ]
  },
  {
   "cell_type": "code",
   "execution_count": 15,
   "metadata": {
    "scrolled": true
   },
   "outputs": [
    {
     "data": {
      "text/plain": [
       "array([[5606,  319],\n",
       "       [1654,  316]])"
      ]
     },
     "execution_count": 15,
     "metadata": {},
     "output_type": "execute_result"
    }
   ],
   "source": [
    "confusion_matrix(Y_test, predictions)"
   ]
  },
  {
   "cell_type": "code",
   "execution_count": 16,
   "metadata": {},
   "outputs": [
    {
     "name": "stdout",
     "output_type": "stream",
     "text": [
      "Sensitivity/Recall = 0.9461603375527426\n",
      "Precision = 0.7721763085399449\n"
     ]
    }
   ],
   "source": [
    "print('Sensitivity/Recall =' ,5606/(5606+319))\n",
    "print('Precision =' ,5606/(5606+1654))"
   ]
  },
  {
   "cell_type": "markdown",
   "metadata": {},
   "source": [
    "# Decision Tree"
   ]
  },
  {
   "cell_type": "code",
   "execution_count": 17,
   "metadata": {},
   "outputs": [],
   "source": [
    "from sklearn.model_selection import train_test_split\n",
    "from sklearn.tree import DecisionTreeClassifier\n",
    "from sklearn.tree import export_text"
   ]
  },
  {
   "cell_type": "code",
   "execution_count": 18,
   "metadata": {},
   "outputs": [],
   "source": [
    "inputs = df[['Action','Adventure','Animation','Comedy','Documentary','Drama','Family','Foreign','Horror','Mystery',\n",
    " 'Romance','Science Fiction','TV Movie','Thriller','Western']]\n",
    "target = df['Highrating']"
   ]
  },
  {
   "cell_type": "code",
   "execution_count": 19,
   "metadata": {},
   "outputs": [],
   "source": [
    "fn = inputs.columns.to_list()"
   ]
  },
  {
   "cell_type": "code",
   "execution_count": 20,
   "metadata": {},
   "outputs": [
    {
     "name": "stdout",
     "output_type": "stream",
     "text": [
      "1\n",
      "              precision    recall  f1-score   support\n",
      "\n",
      "           0       0.75      1.00      0.86      5917\n",
      "           1       0.00      0.00      0.00      1978\n",
      "\n",
      "    accuracy                           0.75      7895\n",
      "   macro avg       0.37      0.50      0.43      7895\n",
      "weighted avg       0.56      0.75      0.64      7895\n",
      "\n",
      "2\n",
      "              precision    recall  f1-score   support\n",
      "\n",
      "           0       0.76      0.94      0.84      5846\n",
      "           1       0.50      0.16      0.25      2049\n",
      "\n",
      "    accuracy                           0.74      7895\n",
      "   macro avg       0.63      0.55      0.54      7895\n",
      "weighted avg       0.70      0.74      0.69      7895\n",
      "\n",
      "3\n",
      "              precision    recall  f1-score   support\n",
      "\n",
      "           0       0.75      1.00      0.86      5898\n",
      "           1       0.80      0.00      0.00      1997\n",
      "\n",
      "    accuracy                           0.75      7895\n",
      "   macro avg       0.77      0.50      0.43      7895\n",
      "weighted avg       0.76      0.75      0.64      7895\n",
      "\n",
      "4\n",
      "              precision    recall  f1-score   support\n",
      "\n",
      "           0       0.77      0.94      0.85      5881\n",
      "           1       0.50      0.16      0.25      2014\n",
      "\n",
      "    accuracy                           0.75      7895\n",
      "   macro avg       0.64      0.55      0.55      7895\n",
      "weighted avg       0.70      0.75      0.69      7895\n",
      "\n",
      "5\n",
      "              precision    recall  f1-score   support\n",
      "\n",
      "           0       0.76      0.95      0.84      5853\n",
      "           1       0.49      0.15      0.23      2042\n",
      "\n",
      "    accuracy                           0.74      7895\n",
      "   macro avg       0.62      0.55      0.54      7895\n",
      "weighted avg       0.69      0.74      0.68      7895\n",
      "\n",
      "6\n",
      "              precision    recall  f1-score   support\n",
      "\n",
      "           0       0.77      0.95      0.85      5911\n",
      "           1       0.51      0.16      0.24      1984\n",
      "\n",
      "    accuracy                           0.75      7895\n",
      "   macro avg       0.64      0.55      0.54      7895\n",
      "weighted avg       0.70      0.75      0.70      7895\n",
      "\n",
      "7\n"
     ]
    },
    {
     "name": "stderr",
     "output_type": "stream",
     "text": [
      "/Users/anitaaa/opt/anaconda3/lib/python3.8/site-packages/sklearn/metrics/_classification.py:1245: UndefinedMetricWarning: Precision and F-score are ill-defined and being set to 0.0 in labels with no predicted samples. Use `zero_division` parameter to control this behavior.\n",
      "  _warn_prf(average, modifier, msg_start, len(result))\n",
      "/Users/anitaaa/opt/anaconda3/lib/python3.8/site-packages/sklearn/metrics/_classification.py:1245: UndefinedMetricWarning: Precision and F-score are ill-defined and being set to 0.0 in labels with no predicted samples. Use `zero_division` parameter to control this behavior.\n",
      "  _warn_prf(average, modifier, msg_start, len(result))\n",
      "/Users/anitaaa/opt/anaconda3/lib/python3.8/site-packages/sklearn/metrics/_classification.py:1245: UndefinedMetricWarning: Precision and F-score are ill-defined and being set to 0.0 in labels with no predicted samples. Use `zero_division` parameter to control this behavior.\n",
      "  _warn_prf(average, modifier, msg_start, len(result))\n"
     ]
    },
    {
     "name": "stdout",
     "output_type": "stream",
     "text": [
      "              precision    recall  f1-score   support\n",
      "\n",
      "           0       0.77      0.95      0.85      5872\n",
      "           1       0.51      0.16      0.24      2023\n",
      "\n",
      "    accuracy                           0.74      7895\n",
      "   macro avg       0.64      0.55      0.54      7895\n",
      "weighted avg       0.70      0.74      0.69      7895\n",
      "\n",
      "8\n",
      "              precision    recall  f1-score   support\n",
      "\n",
      "           0       0.77      0.95      0.85      5883\n",
      "           1       0.54      0.17      0.26      2012\n",
      "\n",
      "    accuracy                           0.75      7895\n",
      "   macro avg       0.66      0.56      0.55      7895\n",
      "weighted avg       0.71      0.75      0.70      7895\n",
      "\n",
      "9\n",
      "              precision    recall  f1-score   support\n",
      "\n",
      "           0       0.77      0.95      0.85      5881\n",
      "           1       0.54      0.17      0.26      2014\n",
      "\n",
      "    accuracy                           0.75      7895\n",
      "   macro avg       0.66      0.56      0.56      7895\n",
      "weighted avg       0.71      0.75      0.70      7895\n",
      "\n",
      "10\n",
      "              precision    recall  f1-score   support\n",
      "\n",
      "           0       0.77      0.95      0.85      5917\n",
      "           1       0.50      0.16      0.24      1978\n",
      "\n",
      "    accuracy                           0.75      7895\n",
      "   macro avg       0.63      0.55      0.55      7895\n",
      "weighted avg       0.70      0.75      0.70      7895\n",
      "\n",
      "11\n",
      "              precision    recall  f1-score   support\n",
      "\n",
      "           0       0.77      0.95      0.85      5867\n",
      "           1       0.55      0.17      0.26      2028\n",
      "\n",
      "    accuracy                           0.75      7895\n",
      "   macro avg       0.66      0.56      0.55      7895\n",
      "weighted avg       0.71      0.75      0.70      7895\n",
      "\n",
      "12\n",
      "              precision    recall  f1-score   support\n",
      "\n",
      "           0       0.78      0.95      0.86      5971\n",
      "           1       0.52      0.18      0.27      1924\n",
      "\n",
      "    accuracy                           0.76      7895\n",
      "   macro avg       0.65      0.56      0.56      7895\n",
      "weighted avg       0.72      0.76      0.71      7895\n",
      "\n",
      "13\n",
      "              precision    recall  f1-score   support\n",
      "\n",
      "           0       0.77      0.95      0.85      5882\n",
      "           1       0.52      0.17      0.25      2013\n",
      "\n",
      "    accuracy                           0.75      7895\n",
      "   macro avg       0.65      0.56      0.55      7895\n",
      "weighted avg       0.71      0.75      0.70      7895\n",
      "\n",
      "14\n",
      "              precision    recall  f1-score   support\n",
      "\n",
      "           0       0.77      0.95      0.85      5921\n",
      "           1       0.50      0.15      0.23      1974\n",
      "\n",
      "    accuracy                           0.75      7895\n",
      "   macro avg       0.63      0.55      0.54      7895\n",
      "weighted avg       0.70      0.75      0.70      7895\n",
      "\n"
     ]
    }
   ],
   "source": [
    "depth = 1 \n",
    "score = {}\n",
    "while depth < len(inputs.columns):\n",
    "    model = DecisionTreeClassifier(max_depth = depth, random_state = 0)\n",
    "    X_train, X_test, Y_train, Y_test = train_test_split(inputs, target, test_size = 0.2)\n",
    "    y_predict = model.fit(X_train, Y_train).predict(X_test)\n",
    "    score[depth] = model.score(X_test, Y_test)\n",
    "    print(depth)\n",
    "    depth += 1\n",
    "    print(classification_report(Y_test, y_predict))"
   ]
  },
  {
   "cell_type": "code",
   "execution_count": 21,
   "metadata": {},
   "outputs": [
    {
     "data": {
      "text/plain": [
       "{1: 0.749461684610513,\n",
       " 2: 0.7409753008233059,\n",
       " 3: 0.7474350854971501,\n",
       " 4: 0.7456618112729576,\n",
       " 5: 0.7395820139328689,\n",
       " 6: 0.7498416719442685,\n",
       " 7: 0.7449018366054465,\n",
       " 8: 0.7517416086130463,\n",
       " 9: 0.7519949335022166,\n",
       " 10: 0.7489550348321723,\n",
       " 11: 0.7508549715009499,\n",
       " 12: 0.7589613679544015,\n",
       " 13: 0.7490816972767574,\n",
       " 14: 0.7493350221659278}"
      ]
     },
     "execution_count": 21,
     "metadata": {},
     "output_type": "execute_result"
    }
   ],
   "source": [
    "score"
   ]
  },
  {
   "cell_type": "markdown",
   "metadata": {},
   "source": [
    "# XG Boost"
   ]
  },
  {
   "cell_type": "code",
   "execution_count": 22,
   "metadata": {},
   "outputs": [
    {
     "name": "stdout",
     "output_type": "stream",
     "text": [
      "Collecting xgboost\n",
      "  Downloading xgboost-1.5.1-py3-none-macosx_10_15_x86_64.macosx_11_0_x86_64.macosx_12_0_x86_64.whl (1.3 MB)\n",
      "\u001b[K     |████████████████████████████████| 1.3 MB 3.4 MB/s eta 0:00:01\n",
      "\u001b[?25hRequirement already satisfied: scipy in /Users/anitaaa/opt/anaconda3/lib/python3.8/site-packages (from xgboost) (1.6.2)\n",
      "Requirement already satisfied: numpy in /Users/anitaaa/opt/anaconda3/lib/python3.8/site-packages (from xgboost) (1.20.1)\n",
      "Installing collected packages: xgboost\n",
      "Successfully installed xgboost-1.5.1\n"
     ]
    }
   ],
   "source": [
    "!pip install xgboost"
   ]
  },
  {
   "cell_type": "code",
   "execution_count": 23,
   "metadata": {
    "scrolled": true
   },
   "outputs": [
    {
     "name": "stdout",
     "output_type": "stream",
     "text": [
      "Running `brew update --preinstall`...\n",
      "\u001b[34m==>\u001b[0m \u001b[1mAuto-updated Homebrew!\u001b[0m\n",
      "Updated 1 tap (homebrew/cask).\n",
      "\u001b[34m==>\u001b[0m \u001b[1mUpdated Casks\u001b[0m\n",
      "Updated 1 cask.\n",
      "\n",
      "\u001b[33mWarning:\u001b[0m libomp 13.0.0 is already installed and up-to-date.\n",
      "To reinstall 13.0.0, run:\n",
      "  brew reinstall libomp\n"
     ]
    }
   ],
   "source": [
    "!brew install libomp"
   ]
  },
  {
   "cell_type": "code",
   "execution_count": 24,
   "metadata": {},
   "outputs": [],
   "source": [
    "from numpy import loadtxt\n",
    "from xgboost import XGBClassifier"
   ]
  },
  {
   "cell_type": "code",
   "execution_count": 40,
   "metadata": {},
   "outputs": [],
   "source": [
    "y = df['Highrating']\n",
    "X = df[['Action',\n",
    " 'Adventure',\n",
    " 'Animation',\n",
    " 'Comedy',\n",
    " 'Crime',\n",
    " 'Documentary',\n",
    " 'Drama',\n",
    " 'Family',\n",
    " 'Fantasy',\n",
    " 'Foreign',\n",
    " 'History',\n",
    " 'Horror',\n",
    " 'Music',\n",
    " 'Mystery',\n",
    " 'Romance',\n",
    " 'Science Fiction',\n",
    " 'TV Movie',\n",
    " 'Thriller',\n",
    " 'War',\n",
    " 'Western']]"
   ]
  },
  {
   "cell_type": "code",
   "execution_count": 41,
   "metadata": {},
   "outputs": [],
   "source": [
    "seed = 7\n",
    "test_size = 0.20\n",
    "X_train, X_test, y_train, y_test = train_test_split(X, y, test_size=test_size, random_state=seed)"
   ]
  },
  {
   "cell_type": "code",
   "execution_count": 42,
   "metadata": {},
   "outputs": [
    {
     "name": "stderr",
     "output_type": "stream",
     "text": [
      "/Users/anitaaa/opt/anaconda3/lib/python3.8/site-packages/xgboost/sklearn.py:1224: UserWarning: The use of label encoder in XGBClassifier is deprecated and will be removed in a future release. To remove this warning, do the following: 1) Pass option use_label_encoder=False when constructing XGBClassifier object; and 2) Encode your labels (y) as integers starting with 0, i.e. 0, 1, 2, ..., [num_class - 1].\n",
      "  warnings.warn(label_encoder_deprecation_msg, UserWarning)\n"
     ]
    },
    {
     "name": "stdout",
     "output_type": "stream",
     "text": [
      "[23:44:13] WARNING: /Users/runner/work/xgboost/xgboost/src/learner.cc:1115: Starting in XGBoost 1.3.0, the default evaluation metric used with the objective 'binary:logistic' was changed from 'error' to 'logloss'. Explicitly set eval_metric if you'd like to restore the old behavior.\n"
     ]
    },
    {
     "data": {
      "text/plain": [
       "XGBClassifier(base_score=0.5, booster='gbtree', colsample_bylevel=1,\n",
       "              colsample_bynode=1, colsample_bytree=1, enable_categorical=False,\n",
       "              gamma=0, gpu_id=-1, importance_type=None,\n",
       "              interaction_constraints='', learning_rate=0.300000012,\n",
       "              max_delta_step=0, max_depth=6, min_child_weight=1, missing=nan,\n",
       "              monotone_constraints='()', n_estimators=100, n_jobs=8,\n",
       "              num_parallel_tree=1, predictor='auto', random_state=0,\n",
       "              reg_alpha=0, reg_lambda=1, scale_pos_weight=1, subsample=1,\n",
       "              tree_method='exact', validate_parameters=1, verbosity=None)"
      ]
     },
     "execution_count": 42,
     "metadata": {},
     "output_type": "execute_result"
    }
   ],
   "source": [
    "model = XGBClassifier()\n",
    "model.fit(X_train, y_train)"
   ]
  },
  {
   "cell_type": "code",
   "execution_count": 43,
   "metadata": {},
   "outputs": [],
   "source": [
    "y_pred = model.predict(X_test)\n",
    "predictions = [round(value) for value in y_pred]"
   ]
  },
  {
   "cell_type": "code",
   "execution_count": 44,
   "metadata": {},
   "outputs": [],
   "source": [
    "accuracy = accuracy_score(y_test, predictions)"
   ]
  },
  {
   "cell_type": "code",
   "execution_count": 45,
   "metadata": {},
   "outputs": [
    {
     "name": "stdout",
     "output_type": "stream",
     "text": [
      "Accuracy: 74.27%\n"
     ]
    }
   ],
   "source": [
    "print(\"Accuracy: %.2f%%\" % (accuracy * 100.0))"
   ]
  },
  {
   "cell_type": "code",
   "execution_count": 46,
   "metadata": {},
   "outputs": [
    {
     "data": {
      "text/plain": [
       "array([[5513,  332],\n",
       "       [1699,  351]])"
      ]
     },
     "execution_count": 46,
     "metadata": {},
     "output_type": "execute_result"
    }
   ],
   "source": [
    "confusion_matrix(y_test, predictions)"
   ]
  },
  {
   "cell_type": "code",
   "execution_count": null,
   "metadata": {},
   "outputs": [],
   "source": []
  }
 ],
 "metadata": {
  "kernelspec": {
   "display_name": "Python 3",
   "language": "python",
   "name": "python3"
  },
  "language_info": {
   "codemirror_mode": {
    "name": "ipython",
    "version": 3
   },
   "file_extension": ".py",
   "mimetype": "text/x-python",
   "name": "python",
   "nbconvert_exporter": "python",
   "pygments_lexer": "ipython3",
   "version": "3.8.8"
  }
 },
 "nbformat": 4,
 "nbformat_minor": 4
}
